{
 "cells": [
  {
   "cell_type": "code",
   "execution_count": null,
   "id": "8c14c2c9",
   "metadata": {},
   "outputs": [],
   "source": [
    "#7.4 Make a list called things with these three strings as elements: \"mozzarella\", \"cinderella\", \"salmonella\".\n",
    "    things = ['mozzarella', 'cinderalla', 'salmonella']"
   ]
  },
  {
   "cell_type": "code",
   "execution_count": null,
   "id": "649756f4",
   "metadata": {},
   "outputs": [],
   "source": [
    "#7.5 Capitalize the element in things that refers to a person and then print the list. Did it change the element in the list?\n",
    "    things = ['mozzarella', 'cinderalla', 'salmonella']\n",
    "    things[1] = 'Cinderalla'\n",
    "    print(things)"
   ]
  },
  {
   "cell_type": "code",
   "execution_count": null,
   "id": "7bb15f78",
   "metadata": {},
   "outputs": [],
   "source": [
    "#7.6 Make the cheesy element of things all uppercase and then print the list.\n",
    "    things = ['mozzarella', 'cinderalla', 'salmonella']\n",
    "    things[0] = 'MOZZARELLA'\n",
    "    print(things)"
   ]
  },
  {
   "cell_type": "code",
   "execution_count": null,
   "id": "79b9c797",
   "metadata": {},
   "outputs": [],
   "source": [
    "#7.7 Delete the disease element from things, collect your Nobel Prize, and print the list.\n",
    "    things = ['mozzarella', 'cinderalla', 'salmonella']\n",
    "    del things [-1]\n",
    "    print(things)"
   ]
  },
  {
   "cell_type": "code",
   "execution_count": null,
   "id": "f348fcd3",
   "metadata": {},
   "outputs": [],
   "source": [
    "#9.1 Define a function called good() that returns the following list: ['Harry', 'Ron', 'Hermione'].\n",
    "    def good ():\n",
    "    return['Harry', 'Ron', 'Hermione']"
   ]
  },
  {
   "cell_type": "code",
   "execution_count": null,
   "id": "270156ad",
   "metadata": {},
   "outputs": [],
   "source": [
    "#9.2 Define a generator function called get_odds() that returns the odd numbers from range(10). Use a for loop to find and print the third value returned.\n",
    "    def get_odds():\n",
    "    for number in range(1, 10, 2):\n",
    "    return number\n",
    "    count = 1\n",
    "    for number in get_odds():\n",
    "    if count == 3:\n",
    "    print(\"The third odd number is\", number)\n",
    "       break\n",
    "    count += 1"
   ]
  }
 ],
 "metadata": {
  "kernelspec": {
   "display_name": "Python 3 (ipykernel)",
   "language": "python",
   "name": "python3"
  },
  "language_info": {
   "codemirror_mode": {
    "name": "ipython",
    "version": 3
   },
   "file_extension": ".py",
   "mimetype": "text/x-python",
   "name": "python",
   "nbconvert_exporter": "python",
   "pygments_lexer": "ipython3",
   "version": "3.11.4"
  }
 },
 "nbformat": 4,
 "nbformat_minor": 5
}
